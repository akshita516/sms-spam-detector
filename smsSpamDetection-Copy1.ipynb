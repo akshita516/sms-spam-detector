{
 "cells": [
  {
   "cell_type": "code",
   "execution_count": 1,
   "id": "8e565e1b-7c53-4049-ad7a-28ad32e54c69",
   "metadata": {},
   "outputs": [],
   "source": [
    "#IMPORT ALL NECESSARY LIBRARIES\n",
    "import pandas as pd\n",
    "import matplotlib.pyplot as plt\n",
    "import re\n",
    "from sklearn.model_selection import train_test_split\n",
    "from sklearn.feature_extraction.text import TfidfVectorizer\n",
    "from sklearn.naive_bayes import MultinomialNB\n",
    "from sklearn.metrics import accuracy_score, classification_report, confusion_matrix\n",
    "import seaborn as sns\n",
    "from sklearn.model_selection import GridSearchCV\n",
    "from nltk.corpus import stopwords\n",
    "from nltk.stem import PorterStemmer"
   ]
  },
  {
   "cell_type": "code",
   "execution_count": 2,
   "id": "eaad617a-fc37-4307-8a6c-ed03b8a7d073",
   "metadata": {},
   "outputs": [
    {
     "data": {
      "text/html": [
       "<div>\n",
       "<style scoped>\n",
       "    .dataframe tbody tr th:only-of-type {\n",
       "        vertical-align: middle;\n",
       "    }\n",
       "\n",
       "    .dataframe tbody tr th {\n",
       "        vertical-align: top;\n",
       "    }\n",
       "\n",
       "    .dataframe thead th {\n",
       "        text-align: right;\n",
       "    }\n",
       "</style>\n",
       "<table border=\"1\" class=\"dataframe\">\n",
       "  <thead>\n",
       "    <tr style=\"text-align: right;\">\n",
       "      <th></th>\n",
       "      <th>0</th>\n",
       "      <th>1</th>\n",
       "      <th>2</th>\n",
       "      <th>3</th>\n",
       "      <th>4</th>\n",
       "    </tr>\n",
       "  </thead>\n",
       "  <tbody>\n",
       "    <tr>\n",
       "      <th>v1</th>\n",
       "      <td>ham</td>\n",
       "      <td>ham</td>\n",
       "      <td>spam</td>\n",
       "      <td>ham</td>\n",
       "      <td>ham</td>\n",
       "    </tr>\n",
       "    <tr>\n",
       "      <th>v2</th>\n",
       "      <td>Go until jurong point, crazy.. Available only ...</td>\n",
       "      <td>Ok lar... Joking wif u oni...</td>\n",
       "      <td>Free entry in 2 a wkly comp to win FA Cup fina...</td>\n",
       "      <td>U dun say so early hor... U c already then say...</td>\n",
       "      <td>Nah I don't think he goes to usf, he lives aro...</td>\n",
       "    </tr>\n",
       "    <tr>\n",
       "      <th>Unnamed: 2</th>\n",
       "      <td>NaN</td>\n",
       "      <td>NaN</td>\n",
       "      <td>NaN</td>\n",
       "      <td>NaN</td>\n",
       "      <td>NaN</td>\n",
       "    </tr>\n",
       "    <tr>\n",
       "      <th>Unnamed: 3</th>\n",
       "      <td>NaN</td>\n",
       "      <td>NaN</td>\n",
       "      <td>NaN</td>\n",
       "      <td>NaN</td>\n",
       "      <td>NaN</td>\n",
       "    </tr>\n",
       "    <tr>\n",
       "      <th>Unnamed: 4</th>\n",
       "      <td>NaN</td>\n",
       "      <td>NaN</td>\n",
       "      <td>NaN</td>\n",
       "      <td>NaN</td>\n",
       "      <td>NaN</td>\n",
       "    </tr>\n",
       "  </tbody>\n",
       "</table>\n",
       "</div>"
      ],
      "text/plain": [
       "                                                            0  \\\n",
       "v1                                                        ham   \n",
       "v2          Go until jurong point, crazy.. Available only ...   \n",
       "Unnamed: 2                                                NaN   \n",
       "Unnamed: 3                                                NaN   \n",
       "Unnamed: 4                                                NaN   \n",
       "\n",
       "                                        1  \\\n",
       "v1                                    ham   \n",
       "v2          Ok lar... Joking wif u oni...   \n",
       "Unnamed: 2                            NaN   \n",
       "Unnamed: 3                            NaN   \n",
       "Unnamed: 4                            NaN   \n",
       "\n",
       "                                                            2  \\\n",
       "v1                                                       spam   \n",
       "v2          Free entry in 2 a wkly comp to win FA Cup fina...   \n",
       "Unnamed: 2                                                NaN   \n",
       "Unnamed: 3                                                NaN   \n",
       "Unnamed: 4                                                NaN   \n",
       "\n",
       "                                                            3  \\\n",
       "v1                                                        ham   \n",
       "v2          U dun say so early hor... U c already then say...   \n",
       "Unnamed: 2                                                NaN   \n",
       "Unnamed: 3                                                NaN   \n",
       "Unnamed: 4                                                NaN   \n",
       "\n",
       "                                                            4  \n",
       "v1                                                        ham  \n",
       "v2          Nah I don't think he goes to usf, he lives aro...  \n",
       "Unnamed: 2                                                NaN  \n",
       "Unnamed: 3                                                NaN  \n",
       "Unnamed: 4                                                NaN  "
      ]
     },
     "execution_count": 2,
     "metadata": {},
     "output_type": "execute_result"
    }
   ],
   "source": [
    "#PROVIDING PATH FOR DATASET\n",
    "input_dir = r\"E:/projects/smsSpamDetection/spam.csv\"\n",
    "\n",
    "#READING THE FILE PRESENT IN THE PROVIDED DATASET\n",
    "df = pd.read_csv(input_dir,encoding='latin-1')\n",
    "#PRINTING THE HEAD OF THE DATASET: PRINTING FIRST 5 RECORDS\n",
    "df.head().T"
   ]
  },
  {
   "cell_type": "code",
   "execution_count": 3,
   "id": "de419666-517d-4dcd-87ab-2b71dc1fc2b9",
   "metadata": {},
   "outputs": [
    {
     "name": "stdout",
     "output_type": "stream",
     "text": [
      "<class 'pandas.core.frame.DataFrame'>\n",
      "RangeIndex: 5574 entries, 0 to 5573\n",
      "Data columns (total 5 columns):\n",
      " #   Column      Non-Null Count  Dtype \n",
      "---  ------      --------------  ----- \n",
      " 0   v1          5574 non-null   object\n",
      " 1   v2          5574 non-null   object\n",
      " 2   Unnamed: 2  50 non-null     object\n",
      " 3   Unnamed: 3  12 non-null     object\n",
      " 4   Unnamed: 4  6 non-null      object\n",
      "dtypes: object(5)\n",
      "memory usage: 217.9+ KB\n"
     ]
    }
   ],
   "source": [
    "#PRINTING INFORMATION ABOUT THE DATASET - SHOWS DATA TYPE, NULL COUNTS AND MEMORY USAGE\n",
    "df.info()"
   ]
  },
  {
   "cell_type": "code",
   "execution_count": 4,
   "id": "f4956554-5e9a-4468-974b-de67526221ba",
   "metadata": {},
   "outputs": [
    {
     "data": {
      "text/html": [
       "<div>\n",
       "<style scoped>\n",
       "    .dataframe tbody tr th:only-of-type {\n",
       "        vertical-align: middle;\n",
       "    }\n",
       "\n",
       "    .dataframe tbody tr th {\n",
       "        vertical-align: top;\n",
       "    }\n",
       "\n",
       "    .dataframe thead th {\n",
       "        text-align: right;\n",
       "    }\n",
       "</style>\n",
       "<table border=\"1\" class=\"dataframe\">\n",
       "  <thead>\n",
       "    <tr style=\"text-align: right;\">\n",
       "      <th></th>\n",
       "      <th>count</th>\n",
       "      <th>unique</th>\n",
       "      <th>top</th>\n",
       "      <th>freq</th>\n",
       "    </tr>\n",
       "  </thead>\n",
       "  <tbody>\n",
       "    <tr>\n",
       "      <th>v1</th>\n",
       "      <td>5574</td>\n",
       "      <td>2</td>\n",
       "      <td>ham</td>\n",
       "      <td>4825</td>\n",
       "    </tr>\n",
       "    <tr>\n",
       "      <th>v2</th>\n",
       "      <td>5574</td>\n",
       "      <td>5171</td>\n",
       "      <td>Sorry, I'll call later</td>\n",
       "      <td>30</td>\n",
       "    </tr>\n",
       "    <tr>\n",
       "      <th>Unnamed: 2</th>\n",
       "      <td>50</td>\n",
       "      <td>43</td>\n",
       "      <td>bt not his girlfrnd... G o o d n i g h t . . .@\"</td>\n",
       "      <td>3</td>\n",
       "    </tr>\n",
       "    <tr>\n",
       "      <th>Unnamed: 3</th>\n",
       "      <td>12</td>\n",
       "      <td>10</td>\n",
       "      <td>MK17 92H. 450Ppw 16\"</td>\n",
       "      <td>2</td>\n",
       "    </tr>\n",
       "    <tr>\n",
       "      <th>Unnamed: 4</th>\n",
       "      <td>6</td>\n",
       "      <td>5</td>\n",
       "      <td>GNT:-)\"</td>\n",
       "      <td>2</td>\n",
       "    </tr>\n",
       "  </tbody>\n",
       "</table>\n",
       "</div>"
      ],
      "text/plain": [
       "           count unique                                                top  \\\n",
       "v1          5574      2                                                ham   \n",
       "v2          5574   5171                             Sorry, I'll call later   \n",
       "Unnamed: 2    50     43   bt not his girlfrnd... G o o d n i g h t . . .@\"   \n",
       "Unnamed: 3    12     10                               MK17 92H. 450Ppw 16\"   \n",
       "Unnamed: 4     6      5                                            GNT:-)\"   \n",
       "\n",
       "            freq  \n",
       "v1          4825  \n",
       "v2            30  \n",
       "Unnamed: 2     3  \n",
       "Unnamed: 3     2  \n",
       "Unnamed: 4     2  "
      ]
     },
     "execution_count": 4,
     "metadata": {},
     "output_type": "execute_result"
    }
   ],
   "source": [
    "#DISPLAYS DESCRIPTIVE STATISTICS LIKE: COUNT, UNIQUE, TOP, FREQUENCY\n",
    "df.describe().T"
   ]
  },
  {
   "cell_type": "code",
   "execution_count": 5,
   "id": "01cdcab6-aaad-4d18-8fe4-31b90e79ee32",
   "metadata": {},
   "outputs": [
    {
     "data": {
      "text/html": [
       "<div>\n",
       "<style scoped>\n",
       "    .dataframe tbody tr th:only-of-type {\n",
       "        vertical-align: middle;\n",
       "    }\n",
       "\n",
       "    .dataframe tbody tr th {\n",
       "        vertical-align: top;\n",
       "    }\n",
       "\n",
       "    .dataframe thead th {\n",
       "        text-align: right;\n",
       "    }\n",
       "</style>\n",
       "<table border=\"1\" class=\"dataframe\">\n",
       "  <thead>\n",
       "    <tr style=\"text-align: right;\">\n",
       "      <th></th>\n",
       "      <th>0</th>\n",
       "      <th>1</th>\n",
       "      <th>2</th>\n",
       "      <th>3</th>\n",
       "      <th>4</th>\n",
       "    </tr>\n",
       "  </thead>\n",
       "  <tbody>\n",
       "    <tr>\n",
       "      <th>label</th>\n",
       "      <td>ham</td>\n",
       "      <td>ham</td>\n",
       "      <td>spam</td>\n",
       "      <td>ham</td>\n",
       "      <td>ham</td>\n",
       "    </tr>\n",
       "    <tr>\n",
       "      <th>message</th>\n",
       "      <td>Go until jurong point, crazy.. Available only ...</td>\n",
       "      <td>Ok lar... Joking wif u oni...</td>\n",
       "      <td>Free entry in 2 a wkly comp to win FA Cup fina...</td>\n",
       "      <td>U dun say so early hor... U c already then say...</td>\n",
       "      <td>Nah I don't think he goes to usf, he lives aro...</td>\n",
       "    </tr>\n",
       "  </tbody>\n",
       "</table>\n",
       "</div>"
      ],
      "text/plain": [
       "                                                         0  \\\n",
       "label                                                  ham   \n",
       "message  Go until jurong point, crazy.. Available only ...   \n",
       "\n",
       "                                     1  \\\n",
       "label                              ham   \n",
       "message  Ok lar... Joking wif u oni...   \n",
       "\n",
       "                                                         2  \\\n",
       "label                                                 spam   \n",
       "message  Free entry in 2 a wkly comp to win FA Cup fina...   \n",
       "\n",
       "                                                         3  \\\n",
       "label                                                  ham   \n",
       "message  U dun say so early hor... U c already then say...   \n",
       "\n",
       "                                                         4  \n",
       "label                                                  ham  \n",
       "message  Nah I don't think he goes to usf, he lives aro...  "
      ]
     },
     "execution_count": 5,
     "metadata": {},
     "output_type": "execute_result"
    }
   ],
   "source": [
    "#RENAMING THE COLUMNS: RENAMING V1 WITH LABEL AND V2 WITH MESSAGE\n",
    "df = df[['v1','v2']]\n",
    "df.columns = ['label','message']\n",
    "df.head().T"
   ]
  },
  {
   "cell_type": "code",
   "execution_count": 6,
   "id": "84e81984-10af-4d64-a267-1f98b10aa089",
   "metadata": {},
   "outputs": [
    {
     "data": {
      "image/png": "[encoded data removed]",
      "text/plain": [
       "<Figure size 1000x200 with 1 Axes>"
      ]
     },
     "metadata": {},
     "output_type": "display_data"
    }
   ],
   "source": [
    "#VISUALISE THE DISTRIBUTION OF SPAM AND HAM(NOT SPAM) MESSAGES\n",
    "plt.figure(figsize=(10, 2))\n",
    "df['label'].value_counts().plot(kind='barh',color=['green','red'])\n",
    "plt.title = 'Distribution of Spam vs Ham'\n",
    "plt.xlabel = 'Label'\n",
    "plt.show()"
   ]
  },
  {
   "cell_type": "code",
   "execution_count": 7,
   "id": "f67ceb3d-e427-4a35-863c-5119a98b2dfa",
   "metadata": {},
   "outputs": [
    {
     "name": "stderr",
     "output_type": "stream",
     "text": [
      "[nltk_data] Downloading package stopwords to D:\\python312\\nltk_data...\n",
      "[nltk_data]   Package stopwords is already up-to-date!\n",
      "[nltk_data] Downloading package wordnet to D:\\python312\\nltk_data...\n",
      "[nltk_data]   Package wordnet is already up-to-date!\n",
      "[nltk_data] Downloading package omw-1.4 to D:\\python312\\nltk_data...\n",
      "[nltk_data]   Package omw-1.4 is already up-to-date!\n"
     ]
    }
   ],
   "source": [
    "#TEXT PREPROCESSING STEPS\n",
    "'''\n",
    "    CONVERT TEXT TO LOWERCASE\n",
    "    REPLACES PHONE NUMBER WITH URLS\n",
    "    REMOVES PUNCTUATION\n",
    "    REMOVES STOPWORDS\n",
    "    APPLIES LEMMATISATION'''\n",
    "\n",
    "import nltk\n",
    "nltk.download('stopwords')\n",
    "nltk.download('wordnet')\n",
    "nltk.download('omw-1.4')\n",
    "\n",
    "from nltk.corpus import stopwords\n",
    "from nltk.stem import WordNetLemmatizer\n",
    "\n",
    "stop_words = set(stopwords.words('english'))\n",
    "lemmatizer = WordNetLemmatizer()\n",
    "\n",
    "def preprocess_text(text):\n",
    "    text = text.lower()\n",
    "    text = re.sub(r'\\d{10}', 'phonenumber', text)\n",
    "    text = re.sub(r'http\\S+|www\\S+', 'url', text)\n",
    "\n",
    "    text = re.sub(r'[^a-zA-Z0-9\\s]', '', text)  # remove punctuation\n",
    "    words = text.split()\n",
    "    lemmatized = [lemmatizer.lemmatize(word) for word in words if word not in stop_words]\n",
    "    return ' '.join(lemmatized)\n"
   ]
  },
  {
   "cell_type": "code",
   "execution_count": 8,
   "id": "cdbb72be-3993-479b-90a8-7b1b46293289",
   "metadata": {},
   "outputs": [
    {
     "data": {
      "text/html": [
       "<div>\n",
       "<style scoped>\n",
       "    .dataframe tbody tr th:only-of-type {\n",
       "        vertical-align: middle;\n",
       "    }\n",
       "\n",
       "    .dataframe tbody tr th {\n",
       "        vertical-align: top;\n",
       "    }\n",
       "\n",
       "    .dataframe thead th {\n",
       "        text-align: right;\n",
       "    }\n",
       "</style>\n",
       "<table border=\"1\" class=\"dataframe\">\n",
       "  <thead>\n",
       "    <tr style=\"text-align: right;\">\n",
       "      <th></th>\n",
       "      <th>0</th>\n",
       "      <th>1</th>\n",
       "      <th>2</th>\n",
       "      <th>3</th>\n",
       "      <th>4</th>\n",
       "    </tr>\n",
       "  </thead>\n",
       "  <tbody>\n",
       "    <tr>\n",
       "      <th>label</th>\n",
       "      <td>ham</td>\n",
       "      <td>ham</td>\n",
       "      <td>spam</td>\n",
       "      <td>ham</td>\n",
       "      <td>ham</td>\n",
       "    </tr>\n",
       "    <tr>\n",
       "      <th>message</th>\n",
       "      <td>Go until jurong point, crazy.. Available only ...</td>\n",
       "      <td>Ok lar... Joking wif u oni...</td>\n",
       "      <td>Free entry in 2 a wkly comp to win FA Cup fina...</td>\n",
       "      <td>U dun say so early hor... U c already then say...</td>\n",
       "      <td>Nah I don't think he goes to usf, he lives aro...</td>\n",
       "    </tr>\n",
       "    <tr>\n",
       "      <th>processed_message</th>\n",
       "      <td>go jurong point crazy available bugis n great ...</td>\n",
       "      <td>ok lar joking wif u oni</td>\n",
       "      <td>free entry 2 wkly comp win fa cup final tkts 2...</td>\n",
       "      <td>u dun say early hor u c already say</td>\n",
       "      <td>nah dont think go usf life around though</td>\n",
       "    </tr>\n",
       "  </tbody>\n",
       "</table>\n",
       "</div>"
      ],
      "text/plain": [
       "                                                                   0  \\\n",
       "label                                                            ham   \n",
       "message            Go until jurong point, crazy.. Available only ...   \n",
       "processed_message  go jurong point crazy available bugis n great ...   \n",
       "\n",
       "                                               1  \\\n",
       "label                                        ham   \n",
       "message            Ok lar... Joking wif u oni...   \n",
       "processed_message        ok lar joking wif u oni   \n",
       "\n",
       "                                                                   2  \\\n",
       "label                                                           spam   \n",
       "message            Free entry in 2 a wkly comp to win FA Cup fina...   \n",
       "processed_message  free entry 2 wkly comp win fa cup final tkts 2...   \n",
       "\n",
       "                                                                   3  \\\n",
       "label                                                            ham   \n",
       "message            U dun say so early hor... U c already then say...   \n",
       "processed_message                u dun say early hor u c already say   \n",
       "\n",
       "                                                                   4  \n",
       "label                                                            ham  \n",
       "message            Nah I don't think he goes to usf, he lives aro...  \n",
       "processed_message           nah dont think go usf life around though  "
      ]
     },
     "execution_count": 8,
     "metadata": {},
     "output_type": "execute_result"
    }
   ],
   "source": [
    "#APPLY THE PREPROCESSING\n",
    "df['processed_message'] = df['message'].apply(preprocess_text)\n",
    "df.head().T"
   ]
  },
  {
   "cell_type": "code",
   "execution_count": 9,
   "id": "edb3c01c-1c36-4dbc-bb09-66de8b8a07f4",
   "metadata": {},
   "outputs": [],
   "source": [
    "X = df['processed_message']\n",
    "y = df['label']\n",
    "\n",
    "#SPLIT THE DATASET INTO TEST DATA AND TRAINING DATA\n",
    "X_train, X_test, y_train, y_test = train_test_split(X, y, test_size=0.2, random_state=42)"
   ]
  },
  {
   "cell_type": "code",
   "execution_count": 10,
   "id": "749e9cf4-8f69-458a-ab8d-cb02b0ff926f",
   "metadata": {},
   "outputs": [],
   "source": [
    "#CONVERT TEXT MESSAGES INTO NUMERICAL FORM USING TF-IDF\n",
    "vectorizer = TfidfVectorizer()\n",
    "X_train_tfidf = vectorizer.fit_transform(X_train)\n",
    "X_test_tfidf = vectorizer.transform(X_test)"
   ]
  },
  {
   "cell_type": "code",
   "execution_count": 11,
   "id": "3f6ab143-d01d-4221-a060-6433493cca86",
   "metadata": {},
   "outputs": [
    {
     "name": "stdout",
     "output_type": "stream",
     "text": [
      "Accuracy: 0.9650224215246637\n",
      "              precision    recall  f1-score   support\n",
      "\n",
      "         ham       0.96      1.00      0.98       941\n",
      "        spam       1.00      0.78      0.87       174\n",
      "\n",
      "    accuracy                           0.97      1115\n",
      "   macro avg       0.98      0.89      0.93      1115\n",
      "weighted avg       0.97      0.97      0.96      1115\n",
      "\n"
     ]
    },
    {
     "data": {
      "image/png": "[encoded data removed]",
      "text/plain": [
       "<Figure size 1000x200 with 2 Axes>"
      ]
     },
     "metadata": {},
     "output_type": "display_data"
    }
   ],
   "source": [
    "#MODEL TRAINING\n",
    "nb_classifier = MultinomialNB()\n",
    "nb_classifier.fit(X_train_tfidf, y_train)\n",
    "\n",
    "y_pred = nb_classifier.predict(X_test_tfidf)\n",
    "\n",
    "#PRINTING THE TEST ACCURACY (MODEL EVALUATION)\n",
    "accuracy = accuracy_score(y_test, y_pred)\n",
    "print(f\"Accuracy: {accuracy}\")\n",
    "\n",
    "print(classification_report(y_test, y_pred))\n",
    "\n",
    "#DRAWING THE CONFUSION MATRIX\n",
    "cm = confusion_matrix(y_test, y_pred)\n",
    "plt.figure(figsize=(10, 2))\n",
    "sns.heatmap(cm, annot=True, fmt='d', cmap='Blues', \n",
    "            xticklabels=['Predicted ham', 'Predicted spam'],\n",
    "            yticklabels=['Actual ham', 'Actual spam'])\n",
    "plt.show()"
   ]
  },
  {
   "cell_type": "code",
   "execution_count": 12,
   "id": "e3cd43e7-b186-4d56-b159-ec6aebdd147c",
   "metadata": {},
   "outputs": [
    {
     "name": "stdout",
     "output_type": "stream",
     "text": [
      "Best Parameters: {'alpha': 0.1, 'fit_prior': True}\n",
      "Best Cross-Validation Score: 0.9508943277430328\n",
      "Test Accuracy: 0.9865470852017937\n",
      "              precision    recall  f1-score   support\n",
      "\n",
      "         ham       0.99      1.00      0.99       941\n",
      "        spam       0.99      0.92      0.96       174\n",
      "\n",
      "    accuracy                           0.99      1115\n",
      "   macro avg       0.99      0.96      0.97      1115\n",
      "weighted avg       0.99      0.99      0.99      1115\n",
      "\n"
     ]
    },
    {
     "data": {
      "image/png": "[encoded data removed]",
      "text/plain": [
       "<Figure size 1000x200 with 2 Axes>"
      ]
     },
     "metadata": {},
     "output_type": "display_data"
    }
   ],
   "source": [
    "# TUNING PARAMETERS\n",
    "param_grid = {\n",
    "    'alpha': [0.1, 0.5, 1.0, 1.5, 2.0],\n",
    "    'fit_prior': [True, False]\n",
    "}\n",
    "\n",
    "#USING GRIDSEARCHCV FOR TUNING THE MODEL\n",
    "grid_search = GridSearchCV(estimator=nb_classifier,\n",
    "                           param_grid=param_grid, cv=5,\n",
    "                           scoring='f1_macro', n_jobs=-1)\n",
    "\n",
    "\n",
    "#FIT THE GRIDSEARCHCV TO THE TRAINING DATA\n",
    "grid_search.fit(X_train_tfidf, y_train)\n",
    "\n",
    "#GET THE BEST PARAMETERS AND BEST SCORE\n",
    "best_params = grid_search.best_params_\n",
    "best_score = grid_search.best_score_\n",
    "\n",
    "print(f\"Best Parameters: {best_params}\")\n",
    "print(f\"Best Cross-Validation Score: {best_score}\")\n",
    "\n",
    "#EVALUATE THE BEST MODEL ON THE TEST SET\n",
    "best_model = grid_search.best_estimator_\n",
    "y_pred = best_model.predict(X_test_tfidf)\n",
    "\n",
    "accuracy = accuracy_score(y_test, y_pred)\n",
    "print(f\"Test Accuracy: {accuracy}\")\n",
    "\n",
    "print(classification_report(y_test, y_pred))\n",
    "\n",
    "#PLOT CONFUSION MATRIX\n",
    "cm = confusion_matrix(y_test, y_pred)\n",
    "plt.figure(figsize=(10, 2))\n",
    "sns.heatmap(cm, annot=True, fmt='d', cmap='Blues', \n",
    "            xticklabels=['Predicted ham', 'Predicted spam'],\n",
    "            yticklabels=['Actual ham', 'Actual spam'])\n",
    "plt.show()"
   ]
  },
  {
   "cell_type": "code",
   "execution_count": 13,
   "id": "a70b0ac9-6fc1-4dbb-ad3d-87d9d63a2f3a",
   "metadata": {},
   "outputs": [
    {
     "name": "stdout",
     "output_type": "stream",
     "text": [
      "✅ Saved vectorizer and model to disk.\n",
      "\n",
      "--- Single SMS Prediction ---\n"
     ]
    },
    {
     "name": "stdin",
     "output_type": "stream",
     "text": [
      "Enter an SMS message:\n",
      " download the app and enjoy all features\n"
     ]
    },
    {
     "name": "stdout",
     "output_type": "stream",
     "text": [
      "\n",
      "Message:\n",
      "  download the app and enjoy all features\n",
      "Prediction:\n",
      "  🚨 SPAM\n"
     ]
    }
   ],
   "source": [
    "#SAVE VECTORIZER & MODEL\n",
    "import joblib\n",
    "\n",
    "joblib.dump(vectorizer, 'tfidf_vectorizer.pkl')\n",
    "joblib.dump(best_model,   'spam_classifier_model.pkl')\n",
    "print(\"✅ Saved vectorizer and model to disk.\")\n",
    "\n",
    "#SINGLE‑INPUT PREDICTION\n",
    "print(\"\\n--- Single SMS Prediction ---\")\n",
    "msg = input(\"Enter an SMS message:\\n\")\n",
    "proc = preprocess_text(msg)\n",
    "vec  = vectorizer.transform([proc])\n",
    "pred = best_model.predict(vec)[0]\n",
    "label = \"🚨 SPAM\" if pred=='spam' else \"✅ HAM  -- SAFE MESSAGE/NOT SPAM\"\n",
    "print(f\"\\nMessage:\\n  {msg}\\nPrediction:\\n  {label}\")"
   ]
  },
  {
   "cell_type": "code",
   "execution_count": 15,
   "id": "eb961654-007c-4f87-bc7b-8205f3e970d2",
   "metadata": {},
   "outputs": [
    {
     "data": {
      "text/plain": [
       "['tfidf_vectorizer.pkl']"
      ]
     },
     "execution_count": 15,
     "metadata": {},
     "output_type": "execute_result"
    }
   ],
   "source": [
    "joblib.dump(best_model, \"spam_classifier_model.pkl\")\n",
    "joblib.dump(vectorizer, \"tfidf_vectorizer.pkl\")"
   ]
  },
  {
   "cell_type": "code",
   "execution_count": null,
   "id": "6f7ce24d-fdda-4bb6-929f-b0e5f34a317a",
   "metadata": {},
   "outputs": [],
   "source": []
  }
 ],
 "metadata": {
  "kernelspec": {
   "display_name": "Python 3 (ipykernel)",
   "language": "python",
   "name": "python3"
  },
  "language_info": {
   "codemirror_mode": {
    "name": "ipython",
    "version": 3
   },
   "file_extension": ".py",
   "mimetype": "text/x-python",
   "name": "python",
   "nbconvert_exporter": "python",
   "pygments_lexer": "ipython3",
   "version": "3.12.9"
  }
 },
 "nbformat": 4,
 "nbformat_minor": 5
}
